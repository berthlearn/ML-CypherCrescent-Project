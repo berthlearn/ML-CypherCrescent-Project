{
 "cells": [
  {
   "cell_type": "markdown",
   "id": "5032bfe5-d7dc-481b-9236-867c5171611a",
   "metadata": {},
   "source": [
    "### Importing Relevant Libraries"
   ]
  },
  {
   "cell_type": "code",
   "execution_count": 72,
   "id": "2209623d-50cd-4fae-93d8-a95f60473cdd",
   "metadata": {},
   "outputs": [],
   "source": [
    "from sklearn.metrics import confusion_matrix, ConfusionMatrixDisplay,f1_score, jaccard_score \n",
    "from sklearn.model_selection import train_test_split\n",
    "from sklearn.preprocessing import OneHotEncoder\n",
    "import matplotlib.pyplot as plt\n",
    "import tensorflow as tf\n",
    "import seaborn as sns\n",
    "import pandas as pd\n",
    "import numpy as np\n",
    "import os"
   ]
  },
  {
   "cell_type": "markdown",
   "id": "c53741c5-96e7-4b80-9224-3186b66d4cbe",
   "metadata": {},
   "source": [
    "### Data Collection"
   ]
  },
  {
   "cell_type": "markdown",
   "id": "530b63da-8822-450f-9dd9-067aa5e0a91a",
   "metadata": {},
   "source": [
    "Data used for this project was obtained from kaggle datasets. The data has been modified to fit the scope of the project."
   ]
  },
  {
   "cell_type": "markdown",
   "id": "4c5dad97-6760-4950-8b0b-6beff5db2d0b",
   "metadata": {},
   "source": [
    "### Data Assessment"
   ]
  },
  {
   "cell_type": "code",
   "execution_count": 73,
   "id": "54c89f55-39c8-4216-ab56-72a2bae78dc2",
   "metadata": {},
   "outputs": [
    {
     "data": {
      "text/plain": [
       "(60000, 34)"
      ]
     },
     "execution_count": 73,
     "metadata": {},
     "output_type": "execute_result"
    }
   ],
   "source": [
    "acc_df = pd.read_csv('UK_road_accident_data.csv')\n",
    "acc_df.shape"
   ]
  },
  {
   "cell_type": "code",
   "execution_count": 74,
   "id": "cb34a416-9757-4bef-a1db-053b20a3d205",
   "metadata": {},
   "outputs": [
    {
     "name": "stdout",
     "output_type": "stream",
     "text": [
      "<class 'pandas.core.frame.DataFrame'>\n",
      "RangeIndex: 60000 entries, 0 to 59999\n",
      "Data columns (total 34 columns):\n",
      " #   Column                                       Non-Null Count  Dtype  \n",
      "---  ------                                       --------------  -----  \n",
      " 0   Accident_Index                               60000 non-null  object \n",
      " 1   1st_Road_Class                               60000 non-null  object \n",
      " 2   1st_Road_Number                              60000 non-null  float64\n",
      " 3   2nd_Road_Class                               31695 non-null  object \n",
      " 4   2nd_Road_Number                              59609 non-null  float64\n",
      " 5   Accident_Severity                            60000 non-null  object \n",
      " 6   Carriageway_Hazards                          60000 non-null  object \n",
      " 7   Date                                         60000 non-null  object \n",
      " 8   Day_of_Week                                  60000 non-null  object \n",
      " 9   Did_Police_Officer_Attend_Scene_of_Accident  59954 non-null  float64\n",
      " 10  Junction_Control                             60000 non-null  object \n",
      " 11  Junction_Detail                              60000 non-null  object \n",
      " 12  Latitude                                     59996 non-null  float64\n",
      " 13  Light_Conditions                             60000 non-null  object \n",
      " 14  Local_Authority_(District)                   60000 non-null  object \n",
      " 15  Local_Authority_(Highway)                    60000 non-null  object \n",
      " 16  Location_Easting_OSGR                        59996 non-null  float64\n",
      " 17  Location_Northing_OSGR                       59996 non-null  float64\n",
      " 18  Longitude                                    59996 non-null  float64\n",
      " 19  LSOA_of_Accident_Location                    57847 non-null  object \n",
      " 20  Number_of_Casualties                         60000 non-null  int64  \n",
      " 21  Number_of_Vehicles                           60000 non-null  int64  \n",
      " 22  Pedestrian_Crossing-Human_Control            59998 non-null  float64\n",
      " 23  Pedestrian_Crossing-Physical_Facilities      59996 non-null  float64\n",
      " 24  Police_Force                                 60000 non-null  object \n",
      " 25  Road_Surface_Conditions                      60000 non-null  object \n",
      " 26  Road_Type                                    60000 non-null  object \n",
      " 27  Special_Conditions_at_Site                   60000 non-null  object \n",
      " 28  Speed_limit                                  60000 non-null  float64\n",
      " 29  Time                                         59997 non-null  object \n",
      " 30  Urban_or_Rural_Area                          60000 non-null  object \n",
      " 31  Weather_Conditions                           60000 non-null  object \n",
      " 32  Year                                         60000 non-null  int64  \n",
      " 33  InScotland                                   60000 non-null  object \n",
      "dtypes: float64(10), int64(3), object(21)\n",
      "memory usage: 15.6+ MB\n"
     ]
    }
   ],
   "source": [
    "acc_df.info()"
   ]
  },
  {
   "cell_type": "markdown",
   "id": "36c16974-bef4-4e98-8000-d3c5cfa5519c",
   "metadata": {},
   "source": [
    "There are some null entries that need to be filled or removed, data types that need to be changed and columns that need to be removed. Also, column names need to lower case for ease of typing and for proper variable naming."
   ]
  },
  {
   "cell_type": "code",
   "execution_count": 75,
   "id": "c4e1faa0-9d23-451e-8b76-bd2bd179deb0",
   "metadata": {},
   "outputs": [
    {
     "data": {
      "text/plain": [
       "0"
      ]
     },
     "execution_count": 75,
     "metadata": {},
     "output_type": "execute_result"
    }
   ],
   "source": [
    "# Checking for duplicate entries\n",
    "\n",
    "sum(acc_df.duplicated())"
   ]
  },
  {
   "cell_type": "markdown",
   "id": "d9a86cdc-652a-45d7-9fc6-0757ced602b3",
   "metadata": {},
   "source": [
    "NO DUPLICATE ENTRIES. GOOD"
   ]
  },
  {
   "cell_type": "markdown",
   "id": "167fc7ef-ad83-4fd7-ab29-374c4bd99e39",
   "metadata": {
    "tags": []
   },
   "source": [
    "### Data Cleaning"
   ]
  },
  {
   "cell_type": "markdown",
   "id": "897b967f-e861-4709-b8d3-ffb5473a54ad",
   "metadata": {},
   "source": [
    "##### Renaming columns"
   ]
  },
  {
   "cell_type": "code",
   "execution_count": 76,
   "id": "d2ac6e53-a289-4cde-b571-28e18949d775",
   "metadata": {},
   "outputs": [
    {
     "data": {
      "text/plain": [
       "Index(['accident_index', '1st_road_class', '1st_road_number',\n",
       "       '2nd_road_class'],\n",
       "      dtype='object')"
      ]
     },
     "execution_count": 76,
     "metadata": {},
     "output_type": "execute_result"
    }
   ],
   "source": [
    "acc_df.columns = acc_df.columns.map(lambda col: col.lower())\n",
    "acc_df.columns[:4]"
   ]
  },
  {
   "cell_type": "markdown",
   "id": "c4fd1642-6874-4898-b774-f1ef7eded57a",
   "metadata": {},
   "source": [
    "##### Dropping Unwanted Columns "
   ]
  },
  {
   "cell_type": "code",
   "execution_count": 77,
   "id": "610ebb5d-6970-4e77-862c-51b71a27e8dd",
   "metadata": {},
   "outputs": [],
   "source": [
    "cols_to_drop = ['accident_index','carriageway_hazards','date','day_of_week',\n",
    "                'did_police_officer_attend_scene_of_accident','junction_control',\n",
    "                'junction_detail','local_authority_(district)','local_authority_(highway)',\n",
    "                'lsoa_of_accident_location','police_force','road_surface_conditions',\n",
    "                'special_conditions_at_site','time','urban_or_rural_area','year','inscotland']\n",
    "acc_df.drop(cols_to_drop,axis=1,inplace=True)"
   ]
  },
  {
   "cell_type": "markdown",
   "id": "e20a7a5f-7a2b-47ca-919a-c56d690c8977",
   "metadata": {},
   "source": [
    "##### Re-viewing Remaining Columns"
   ]
  },
  {
   "cell_type": "code",
   "execution_count": 78,
   "id": "281a5b1e-8333-420b-84e6-9b142899a46b",
   "metadata": {},
   "outputs": [
    {
     "name": "stdout",
     "output_type": "stream",
     "text": [
      "<class 'pandas.core.frame.DataFrame'>\n",
      "RangeIndex: 60000 entries, 0 to 59999\n",
      "Data columns (total 17 columns):\n",
      " #   Column                                   Non-Null Count  Dtype  \n",
      "---  ------                                   --------------  -----  \n",
      " 0   1st_road_class                           60000 non-null  object \n",
      " 1   1st_road_number                          60000 non-null  float64\n",
      " 2   2nd_road_class                           31695 non-null  object \n",
      " 3   2nd_road_number                          59609 non-null  float64\n",
      " 4   accident_severity                        60000 non-null  object \n",
      " 5   latitude                                 59996 non-null  float64\n",
      " 6   light_conditions                         60000 non-null  object \n",
      " 7   location_easting_osgr                    59996 non-null  float64\n",
      " 8   location_northing_osgr                   59996 non-null  float64\n",
      " 9   longitude                                59996 non-null  float64\n",
      " 10  number_of_casualties                     60000 non-null  int64  \n",
      " 11  number_of_vehicles                       60000 non-null  int64  \n",
      " 12  pedestrian_crossing-human_control        59998 non-null  float64\n",
      " 13  pedestrian_crossing-physical_facilities  59996 non-null  float64\n",
      " 14  road_type                                60000 non-null  object \n",
      " 15  speed_limit                              60000 non-null  float64\n",
      " 16  weather_conditions                       60000 non-null  object \n",
      "dtypes: float64(9), int64(2), object(6)\n",
      "memory usage: 7.8+ MB\n"
     ]
    }
   ],
   "source": [
    "acc_df.info()"
   ]
  },
  {
   "cell_type": "markdown",
   "id": "9f2c7a81-f049-4483-940d-b173b6f255bf",
   "metadata": {},
   "source": [
    "##### Handling Null values"
   ]
  },
  {
   "cell_type": "code",
   "execution_count": 79,
   "id": "d3af7f07-03fa-4c9a-b9c2-b1ae63be2044",
   "metadata": {},
   "outputs": [
    {
     "data": {
      "text/plain": [
       "2nd_road_class                             28305\n",
       "2nd_road_number                              391\n",
       "latitude                                       4\n",
       "location_easting_osgr                          4\n",
       "location_northing_osgr                         4\n",
       "longitude                                      4\n",
       "pedestrian_crossing-human_control              2\n",
       "pedestrian_crossing-physical_facilities        4\n",
       "dtype: int64"
      ]
     },
     "execution_count": 79,
     "metadata": {},
     "output_type": "execute_result"
    }
   ],
   "source": [
    "# Columns with null values\n",
    "null_cols = acc_df.isnull().apply(lambda x: sum(x))\n",
    "null_cols = null_cols[null_cols != 0]\n",
    "null_cols"
   ]
  },
  {
   "cell_type": "code",
   "execution_count": 80,
   "id": "4807525f-a8dc-47b5-8817-3df8be554c55",
   "metadata": {},
   "outputs": [
    {
     "data": {
      "text/plain": [
       "2nd_road_class                              object\n",
       "2nd_road_number                            float64\n",
       "latitude                                   float64\n",
       "location_easting_osgr                      float64\n",
       "location_northing_osgr                     float64\n",
       "longitude                                  float64\n",
       "pedestrian_crossing-human_control          float64\n",
       "pedestrian_crossing-physical_facilities    float64\n",
       "dtype: object"
      ]
     },
     "execution_count": 80,
     "metadata": {},
     "output_type": "execute_result"
    }
   ],
   "source": [
    "# Data types of columns with null entries\n",
    "index = [index for index in null_cols.index]\n",
    "acc_df.filter(index, axis=1).dtypes"
   ]
  },
  {
   "cell_type": "markdown",
   "id": "a82faff2-85dc-4d21-86d5-7e3a0ef19b72",
   "metadata": {},
   "source": [
    "`2nd_road_class` column with 5075 missing values and `2nd_road_number` with 391 missing values are\n",
    " too vulnerable to be used, hence we'd drop them.\n",
    "The other columns can be filled with the mean of the rest of the values"
   ]
  },
  {
   "cell_type": "code",
   "execution_count": 81,
   "id": "9594253d-a2b1-4ed4-9dbc-990bba1390ae",
   "metadata": {},
   "outputs": [],
   "source": [
    "acc_df.drop(['2nd_road_class','2nd_road_number'],axis=1,inplace=True)"
   ]
  },
  {
   "cell_type": "code",
   "execution_count": 82,
   "id": "d654b3e2-3997-4337-9dcf-d8f7fb3ec512",
   "metadata": {},
   "outputs": [],
   "source": [
    "acc_df.fillna(0,inplace=True)"
   ]
  },
  {
   "cell_type": "code",
   "execution_count": 83,
   "id": "a6ff6425-6aa8-45cb-8cca-6bf42dd72570",
   "metadata": {},
   "outputs": [
    {
     "data": {
      "text/plain": [
       "0"
      ]
     },
     "execution_count": 83,
     "metadata": {},
     "output_type": "execute_result"
    }
   ],
   "source": [
    "sum(acc_df.isnull().apply(lambda x: sum(x)))"
   ]
  },
  {
   "cell_type": "markdown",
   "id": "ca6756c7-7efc-4342-8e0b-f6b5705f1d13",
   "metadata": {},
   "source": [
    "Null values filled with 0"
   ]
  },
  {
   "cell_type": "markdown",
   "id": "6244ad7c-e159-4013-a161-aa9bab9becf5",
   "metadata": {},
   "source": [
    "##### Converting data types of columns with `object dtype` to numeric data types"
   ]
  },
  {
   "cell_type": "code",
   "execution_count": 85,
   "id": "f9276ae6-8360-4ea6-ae83-0298dc4a11ea",
   "metadata": {},
   "outputs": [
    {
     "name": "stdout",
     "output_type": "stream",
     "text": [
      "<class 'pandas.core.frame.DataFrame'>\n",
      "RangeIndex: 60000 entries, 0 to 59999\n",
      "Data columns (total 15 columns):\n",
      " #   Column                                   Non-Null Count  Dtype  \n",
      "---  ------                                   --------------  -----  \n",
      " 0   1st_road_class                           60000 non-null  object \n",
      " 1   1st_road_number                          60000 non-null  float64\n",
      " 2   accident_severity                        60000 non-null  object \n",
      " 3   latitude                                 60000 non-null  float64\n",
      " 4   light_conditions                         60000 non-null  object \n",
      " 5   location_easting_osgr                    60000 non-null  float64\n",
      " 6   location_northing_osgr                   60000 non-null  float64\n",
      " 7   longitude                                60000 non-null  float64\n",
      " 8   number_of_casualties                     60000 non-null  int64  \n",
      " 9   number_of_vehicles                       60000 non-null  int64  \n",
      " 10  pedestrian_crossing-human_control        60000 non-null  float64\n",
      " 11  pedestrian_crossing-physical_facilities  60000 non-null  float64\n",
      " 12  road_type                                60000 non-null  object \n",
      " 13  speed_limit                              60000 non-null  float64\n",
      " 14  weather_conditions                       60000 non-null  object \n",
      "dtypes: float64(8), int64(2), object(5)\n",
      "memory usage: 6.9+ MB\n"
     ]
    }
   ],
   "source": [
    "acc_df.info()"
   ]
  },
  {
   "cell_type": "code",
   "execution_count": 86,
   "id": "864c5e16-2904-4587-8450-3fd239221135",
   "metadata": {},
   "outputs": [],
   "source": [
    "def to_codes(df,cols):\n",
    "    for col in cols:\n",
    "        df[col+'_coded'] = df[col].astype('category').cat.codes"
   ]
  },
  {
   "cell_type": "code",
   "execution_count": 87,
   "id": "6ccae668-3ffc-4786-946e-da7c14a4ad62",
   "metadata": {},
   "outputs": [],
   "source": [
    "cols_coded = ['1st_road_class', 'accident_severity','light_conditions', \n",
    "              'pedestrian_crossing-physical_facilities', 'road_type', 'weather_conditions']\n",
    "to_codes(acc_df,cols_coded)"
   ]
  },
  {
   "cell_type": "code",
   "execution_count": 88,
   "id": "30536ea9-d114-411b-93ba-b148fb77843f",
   "metadata": {},
   "outputs": [
    {
     "data": {
      "text/html": [
       "<div>\n",
       "<style scoped>\n",
       "    .dataframe tbody tr th:only-of-type {\n",
       "        vertical-align: middle;\n",
       "    }\n",
       "\n",
       "    .dataframe tbody tr th {\n",
       "        vertical-align: top;\n",
       "    }\n",
       "\n",
       "    .dataframe thead th {\n",
       "        text-align: right;\n",
       "    }\n",
       "</style>\n",
       "<table border=\"1\" class=\"dataframe\">\n",
       "  <thead>\n",
       "    <tr style=\"text-align: right;\">\n",
       "      <th></th>\n",
       "      <th>1st_road_class_coded</th>\n",
       "      <th>accident_severity_coded</th>\n",
       "      <th>light_conditions_coded</th>\n",
       "      <th>pedestrian_crossing-physical_facilities_coded</th>\n",
       "      <th>road_type_coded</th>\n",
       "      <th>weather_conditions_coded</th>\n",
       "    </tr>\n",
       "  </thead>\n",
       "  <tbody>\n",
       "    <tr>\n",
       "      <th>0</th>\n",
       "      <td>2</td>\n",
       "      <td>2</td>\n",
       "      <td>1</td>\n",
       "      <td>3</td>\n",
       "      <td>0</td>\n",
       "      <td>2</td>\n",
       "    </tr>\n",
       "    <tr>\n",
       "      <th>1</th>\n",
       "      <td>3</td>\n",
       "      <td>2</td>\n",
       "      <td>1</td>\n",
       "      <td>0</td>\n",
       "      <td>3</td>\n",
       "      <td>2</td>\n",
       "    </tr>\n",
       "  </tbody>\n",
       "</table>\n",
       "</div>"
      ],
      "text/plain": [
       "   1st_road_class_coded  accident_severity_coded  light_conditions_coded  \\\n",
       "0                     2                        2                       1   \n",
       "1                     3                        2                       1   \n",
       "\n",
       "   pedestrian_crossing-physical_facilities_coded  road_type_coded  \\\n",
       "0                                              3                0   \n",
       "1                                              0                3   \n",
       "\n",
       "   weather_conditions_coded  \n",
       "0                         2  \n",
       "1                         2  "
      ]
     },
     "execution_count": 88,
     "metadata": {},
     "output_type": "execute_result"
    }
   ],
   "source": [
    "acc_df.iloc[:,-6:].head(2)\n"
   ]
  },
  {
   "cell_type": "code",
   "execution_count": 89,
   "id": "433624a9-febf-4aa0-8063-f97eaeb9aa8a",
   "metadata": {},
   "outputs": [],
   "source": [
    "# Dropping columns\n",
    "acc_df.drop(cols_coded,axis=1,inplace=True)"
   ]
  },
  {
   "cell_type": "code",
   "execution_count": 90,
   "id": "b6a7a653-55c4-47ea-8d6a-4d78e8354646",
   "metadata": {},
   "outputs": [
    {
     "name": "stdout",
     "output_type": "stream",
     "text": [
      "(60000, 15)\n"
     ]
    },
    {
     "data": {
      "text/html": [
       "<div>\n",
       "<style scoped>\n",
       "    .dataframe tbody tr th:only-of-type {\n",
       "        vertical-align: middle;\n",
       "    }\n",
       "\n",
       "    .dataframe tbody tr th {\n",
       "        vertical-align: top;\n",
       "    }\n",
       "\n",
       "    .dataframe thead th {\n",
       "        text-align: right;\n",
       "    }\n",
       "</style>\n",
       "<table border=\"1\" class=\"dataframe\">\n",
       "  <thead>\n",
       "    <tr style=\"text-align: right;\">\n",
       "      <th></th>\n",
       "      <th>1st_road_number</th>\n",
       "      <th>latitude</th>\n",
       "      <th>location_easting_osgr</th>\n",
       "      <th>location_northing_osgr</th>\n",
       "      <th>longitude</th>\n",
       "      <th>number_of_casualties</th>\n",
       "      <th>number_of_vehicles</th>\n",
       "      <th>pedestrian_crossing-human_control</th>\n",
       "      <th>speed_limit</th>\n",
       "      <th>1st_road_class_coded</th>\n",
       "      <th>accident_severity_coded</th>\n",
       "      <th>light_conditions_coded</th>\n",
       "      <th>pedestrian_crossing-physical_facilities_coded</th>\n",
       "      <th>road_type_coded</th>\n",
       "      <th>weather_conditions_coded</th>\n",
       "    </tr>\n",
       "  </thead>\n",
       "  <tbody>\n",
       "    <tr>\n",
       "      <th>0</th>\n",
       "      <td>450.0</td>\n",
       "      <td>51.520075</td>\n",
       "      <td>524170.0</td>\n",
       "      <td>181650.0</td>\n",
       "      <td>-0.211708</td>\n",
       "      <td>1</td>\n",
       "      <td>1</td>\n",
       "      <td>0.0</td>\n",
       "      <td>30.0</td>\n",
       "      <td>2</td>\n",
       "      <td>2</td>\n",
       "      <td>1</td>\n",
       "      <td>3</td>\n",
       "      <td>0</td>\n",
       "      <td>2</td>\n",
       "    </tr>\n",
       "    <tr>\n",
       "      <th>1</th>\n",
       "      <td>0.0</td>\n",
       "      <td>51.525301</td>\n",
       "      <td>524520.0</td>\n",
       "      <td>182240.0</td>\n",
       "      <td>-0.206458</td>\n",
       "      <td>1</td>\n",
       "      <td>2</td>\n",
       "      <td>0.0</td>\n",
       "      <td>30.0</td>\n",
       "      <td>3</td>\n",
       "      <td>2</td>\n",
       "      <td>1</td>\n",
       "      <td>0</td>\n",
       "      <td>3</td>\n",
       "      <td>2</td>\n",
       "    </tr>\n",
       "    <tr>\n",
       "      <th>2</th>\n",
       "      <td>3220.0</td>\n",
       "      <td>51.482442</td>\n",
       "      <td>526900.0</td>\n",
       "      <td>177530.0</td>\n",
       "      <td>-0.173862</td>\n",
       "      <td>1</td>\n",
       "      <td>1</td>\n",
       "      <td>0.0</td>\n",
       "      <td>30.0</td>\n",
       "      <td>0</td>\n",
       "      <td>2</td>\n",
       "      <td>4</td>\n",
       "      <td>0</td>\n",
       "      <td>3</td>\n",
       "      <td>2</td>\n",
       "    </tr>\n",
       "    <tr>\n",
       "      <th>3</th>\n",
       "      <td>0.0</td>\n",
       "      <td>51.495752</td>\n",
       "      <td>528060.0</td>\n",
       "      <td>179040.0</td>\n",
       "      <td>-0.156618</td>\n",
       "      <td>1</td>\n",
       "      <td>1</td>\n",
       "      <td>0.0</td>\n",
       "      <td>30.0</td>\n",
       "      <td>5</td>\n",
       "      <td>2</td>\n",
       "      <td>0</td>\n",
       "      <td>0</td>\n",
       "      <td>3</td>\n",
       "      <td>2</td>\n",
       "    </tr>\n",
       "    <tr>\n",
       "      <th>4</th>\n",
       "      <td>0.0</td>\n",
       "      <td>51.515540</td>\n",
       "      <td>524770.0</td>\n",
       "      <td>181160.0</td>\n",
       "      <td>-0.203238</td>\n",
       "      <td>1</td>\n",
       "      <td>2</td>\n",
       "      <td>0.0</td>\n",
       "      <td>30.0</td>\n",
       "      <td>5</td>\n",
       "      <td>2</td>\n",
       "      <td>4</td>\n",
       "      <td>0</td>\n",
       "      <td>3</td>\n",
       "      <td>6</td>\n",
       "    </tr>\n",
       "  </tbody>\n",
       "</table>\n",
       "</div>"
      ],
      "text/plain": [
       "   1st_road_number   latitude  location_easting_osgr  location_northing_osgr  \\\n",
       "0            450.0  51.520075               524170.0                181650.0   \n",
       "1              0.0  51.525301               524520.0                182240.0   \n",
       "2           3220.0  51.482442               526900.0                177530.0   \n",
       "3              0.0  51.495752               528060.0                179040.0   \n",
       "4              0.0  51.515540               524770.0                181160.0   \n",
       "\n",
       "   longitude  number_of_casualties  number_of_vehicles  \\\n",
       "0  -0.211708                     1                   1   \n",
       "1  -0.206458                     1                   2   \n",
       "2  -0.173862                     1                   1   \n",
       "3  -0.156618                     1                   1   \n",
       "4  -0.203238                     1                   2   \n",
       "\n",
       "   pedestrian_crossing-human_control  speed_limit  1st_road_class_coded  \\\n",
       "0                                0.0         30.0                     2   \n",
       "1                                0.0         30.0                     3   \n",
       "2                                0.0         30.0                     0   \n",
       "3                                0.0         30.0                     5   \n",
       "4                                0.0         30.0                     5   \n",
       "\n",
       "   accident_severity_coded  light_conditions_coded  \\\n",
       "0                        2                       1   \n",
       "1                        2                       1   \n",
       "2                        2                       4   \n",
       "3                        2                       0   \n",
       "4                        2                       4   \n",
       "\n",
       "   pedestrian_crossing-physical_facilities_coded  road_type_coded  \\\n",
       "0                                              3                0   \n",
       "1                                              0                3   \n",
       "2                                              0                3   \n",
       "3                                              0                3   \n",
       "4                                              0                3   \n",
       "\n",
       "   weather_conditions_coded  \n",
       "0                         2  \n",
       "1                         2  \n",
       "2                         2  \n",
       "3                         2  \n",
       "4                         6  "
      ]
     },
     "execution_count": 90,
     "metadata": {},
     "output_type": "execute_result"
    }
   ],
   "source": [
    "print(acc_df.shape)\n",
    "acc_df.head()"
   ]
  },
  {
   "cell_type": "markdown",
   "id": "e2836008-83e1-4b9a-aec6-be7c10b4ca3e",
   "metadata": {
    "tags": []
   },
   "source": [
    "### Utilities"
   ]
  },
  {
   "cell_type": "code",
   "execution_count": 91,
   "id": "f1ec8ade-5571-40fc-9848-0100a728955a",
   "metadata": {},
   "outputs": [],
   "source": [
    "def transform_data(X,y,Xts=None,yts=None):\n",
    "    X = X.to_numpy(copy=True)\n",
    "    y = y.to_numpy(copy=True)\n",
    "    y_data = y.reshape(y.shape[0], -1)\n",
    "    if Xts is not None:\n",
    "        Xts = Xts.to_numpy(copy=True)\n",
    "    if yts is not None:\n",
    "        yts = yts.to_numpy(copy=True)\n",
    "        y_test = yts.reshape(yts.shape[0], -1)\n",
    "    if (Xts is not None) and (yts is not None):\n",
    "        return X, y_data, X_test, y_test\n",
    "    return X, y_data\n",
    "\n",
    "\n",
    "def model_acc_loss_plot(model_history):\n",
    "    '''Plots model accuracy and loss on the train and validation sets'''\n",
    "    plt.plot(model_history.history['categorical_accuracy'])\n",
    "    plt.plot(model_history.history['val_categorical_accuracy'])\n",
    "    plt.title('model accuracy')\n",
    "    plt.ylabel('accuracy')\n",
    "    plt.xlabel('epoch')\n",
    "    plt.legend(['train','test'],loc='upper left')\n",
    "    plt.show()\n",
    "    \n",
    "    plt.plot(model_history.history['loss'])\n",
    "    plt.plot(model_history.history['val_loss'])\n",
    "    plt.title('model loss')\n",
    "    plt.ylabel('loss')\n",
    "    plt.xlabel('epoch')\n",
    "    plt.legend(['train','test'],loc='upper left')\n",
    "    plt.show()\n",
    "\n",
    "def plot_cm(model, x_test, y_test):\n",
    "    '''Returns a plot of the confusion matrix of the model'''\n",
    "    Y_pred = model.predict(x_test)\n",
    "    y_pred = np.argmax(Y_pred,axis=1)\n",
    "    y_test = np.argmax(y_test,axis=1)\n",
    "    print('confusion matrix')\n",
    "    cm = confusion_matrix(y_test, y_pred)\n",
    "    disp = ConfusionMatrixDisplay(cm,display_labels=['slight','serious','fatal'])\n",
    "    disp.plot()\n",
    "    plt.show()\n",
    "\n",
    "def cal_f1_score(model, x_test,y_test,average=True):\n",
    "    Y_pred = model.predict(x_test)\n",
    "    y_pred = np.argmax(Y_pred,axis=1)\n",
    "    y_test = np.argmax(y_test,axis=1)\n",
    "    if average==True:\n",
    "        return f1_score(y_test,y_pred,average='weighted')\n",
    "    return f1_score(y_test,y_pred)\n",
    "\n",
    "def jac_score(model, x_test,y_test,average=True):\n",
    "    Y_pred = model.predict(x_test)\n",
    "    y_pred = np.argmax(Y_pred,axis=1)\n",
    "    y_test = np.argmax(y_test,axis=1)\n",
    "    if average==True:\n",
    "        return jaccard_score(y_test,y_pred,average='weighted')\n",
    "    return jaccard_score(y_test,y_pred)\n",
    "\n",
    "def hotencode(y):\n",
    "    onehot_encoder = OneHotEncoder(sparse=False)\n",
    "    if y.ndim != 2:\n",
    "        y = y.reshape(-1, 1)\n",
    "    return onehot_encoder.fit_transform(y)"
   ]
  },
  {
   "cell_type": "markdown",
   "id": "425efdac-e822-4925-abd6-8d9a749563e9",
   "metadata": {},
   "source": [
    "### Data Preparation"
   ]
  },
  {
   "cell_type": "markdown",
   "id": "c8ad4a33-93b2-4729-9fcb-095b86a48888",
   "metadata": {},
   "source": [
    "##### Splitting Into Train and Test Set"
   ]
  },
  {
   "cell_type": "code",
   "execution_count": 94,
   "id": "bd13c49e-6397-466e-bc6c-4e1fdb2e1489",
   "metadata": {},
   "outputs": [
    {
     "data": {
      "text/plain": [
       "((60000, 14), (60000,))"
      ]
     },
     "execution_count": 94,
     "metadata": {},
     "output_type": "execute_result"
    }
   ],
   "source": [
    "X = acc_df.drop('accident_severity_coded',axis=1)\n",
    "y = acc_df['accident_severity_coded'].copy()\n",
    "X.shape, y.shape"
   ]
  },
  {
   "cell_type": "code",
   "execution_count": 95,
   "id": "29faf3c9-e29f-450a-8234-6564f717576e",
   "metadata": {},
   "outputs": [
    {
     "data": {
      "text/plain": [
       "2    20000\n",
       "1    20000\n",
       "0    20000\n",
       "Name: accident_severity_coded, dtype: int64"
      ]
     },
     "execution_count": 95,
     "metadata": {},
     "output_type": "execute_result"
    }
   ],
   "source": [
    "y.value_counts()"
   ]
  },
  {
   "cell_type": "code",
   "execution_count": 96,
   "id": "bd3bc90e-31a5-47d6-92bc-2566b04723c5",
   "metadata": {},
   "outputs": [
    {
     "name": "stdout",
     "output_type": "stream",
     "text": [
      "X train (48000, 14), X validation (6000, 14), X test set (6000, 14)\n",
      "y train (48000,), y validation (6000,), y test set (6000,)\n"
     ]
    }
   ],
   "source": [
    "X_train, X_left, y_train, y_left = train_test_split(X,y,train_size=0.8,random_state=1)\n",
    "\n",
    "X_valid, X_test, y_valid, y_test = train_test_split(X_left, y_left, test_size=0.5,random_state=1)\n",
    "\n",
    "print(f'X train {X_train.shape}, X validation {X_valid.shape}, X test set {X_test.shape}')\n",
    "\n",
    "print(f'y train {y_train.shape}, y validation {y_valid.shape}, y test set {y_test.shape}')"
   ]
  },
  {
   "cell_type": "code",
   "execution_count": 97,
   "id": "d99103ec-edc0-463c-a095-bb2a0b038147",
   "metadata": {},
   "outputs": [
    {
     "name": "stdout",
     "output_type": "stream",
     "text": [
      "X_train_tr --> (48000, 14), y_test_enc --> (6000, 3)\n"
     ]
    }
   ],
   "source": [
    "X_train_tr, y_train_tr, X_test_tr, y_test_tr = transform_data(X_train, y_train, X_test, y_test)\n",
    "X_valid_tr, y_valid_tr = transform_data(X_valid, y_valid)\n",
    "\n",
    "y_train_enc = hotencode(y_train_tr)\n",
    "y_valid_enc = hotencode(y_valid_tr)\n",
    "y_test_enc  = hotencode(y_test_tr)\n",
    "print(f'X_train_tr --> {X_train_tr.shape}, y_test_enc --> {y_test_enc.shape}')"
   ]
  },
  {
   "cell_type": "code",
   "execution_count": null,
   "id": "feb58cd1-cf08-4f30-93ee-645a0a3b0d11",
   "metadata": {},
   "outputs": [],
   "source": []
  },
  {
   "cell_type": "markdown",
   "id": "25583c8b-1634-410d-8f81-4103cd0e403c",
   "metadata": {},
   "source": [
    "### Modeling"
   ]
  },
  {
   "cell_type": "code",
   "execution_count": 104,
   "id": "15e866fb-8d80-4999-a229-bea89350db09",
   "metadata": {},
   "outputs": [
    {
     "name": "stdout",
     "output_type": "stream",
     "text": [
      "Model: \"sequential_4\"\n",
      "_________________________________________________________________\n",
      " Layer (type)                Output Shape              Param #   \n",
      "=================================================================\n",
      " dense_12 (Dense)            (None, 524)               7860      \n",
      "                                                                 \n",
      " dense_13 (Dense)            (None, 64)                33600     \n",
      "                                                                 \n",
      " dense_14 (Dense)            (None, 3)                 195       \n",
      "                                                                 \n",
      "=================================================================\n",
      "Total params: 41,655\n",
      "Trainable params: 41,655\n",
      "Non-trainable params: 0\n",
      "_________________________________________________________________\n"
     ]
    }
   ],
   "source": [
    "model1 = tf.keras.Sequential()\n",
    "\n",
    "input_shape = (X_train_tr.shape[1],)\n",
    "hidden_layer1 = tf.keras.layers.Dense(units=524, activation='relu', input_shape=input_shape)\n",
    "hidden_layer2 = tf.keras.layers.Dense(units=64, activation='relu')\n",
    "layer_ouput = tf.keras.layers.Dense(3, activation='sigmoid')\n",
    "\n",
    "model1.add(hidden_layer1)\n",
    "model1.add(hidden_layer2)\n",
    "model1.add(layer_ouput)\n",
    "model1.summary()"
   ]
  },
  {
   "cell_type": "code",
   "execution_count": 105,
   "id": "e2c31d53-5e5b-40a3-a804-b2985f5f8ac7",
   "metadata": {},
   "outputs": [
    {
     "name": "stdout",
     "output_type": "stream",
     "text": [
      "Epoch 1/100\n",
      "1500/1500 [==============================] - 8s 5ms/step - loss: 1229.9528 - sparse_categorical_accuracy: 0.5295 - val_loss: 1326.8907 - val_sparse_categorical_accuracy: 0.6003\n",
      "Epoch 2/100\n",
      "1500/1500 [==============================] - 7s 5ms/step - loss: 499.1550 - sparse_categorical_accuracy: 0.5463 - val_loss: 637.4537 - val_sparse_categorical_accuracy: 0.6043\n",
      "Epoch 3/100\n",
      "1500/1500 [==============================] - 7s 5ms/step - loss: 235.9833 - sparse_categorical_accuracy: 0.5477 - val_loss: 71.2896 - val_sparse_categorical_accuracy: 0.6370\n",
      "Epoch 4/100\n",
      "1500/1500 [==============================] - 7s 5ms/step - loss: 140.4591 - sparse_categorical_accuracy: 0.5489 - val_loss: 151.1571 - val_sparse_categorical_accuracy: 0.6185\n",
      "Epoch 5/100\n",
      "1500/1500 [==============================] - 7s 5ms/step - loss: 57.2671 - sparse_categorical_accuracy: 0.5244 - val_loss: 1.0470 - val_sparse_categorical_accuracy: 0.3263\n",
      "Epoch 6/100\n",
      "1500/1500 [==============================] - 7s 5ms/step - loss: 1.0353 - sparse_categorical_accuracy: 0.3939 - val_loss: 1.0172 - val_sparse_categorical_accuracy: 0.4192\n",
      "Epoch 7/100\n",
      "1500/1500 [==============================] - 7s 5ms/step - loss: 1.0061 - sparse_categorical_accuracy: 0.4674 - val_loss: 1.0646 - val_sparse_categorical_accuracy: 0.3895\n",
      "Epoch 8/100\n",
      "1500/1500 [==============================] - 7s 5ms/step - loss: 1.0458 - sparse_categorical_accuracy: 0.3946 - val_loss: 1.0548 - val_sparse_categorical_accuracy: 0.3858\n",
      "Epoch 9/100\n",
      "1500/1500 [==============================] - 8s 5ms/step - loss: 1.1053 - sparse_categorical_accuracy: 0.3514 - val_loss: 1.0633 - val_sparse_categorical_accuracy: 0.3640\n",
      "Epoch 10/100\n",
      "1500/1500 [==============================] - 7s 5ms/step - loss: 1.0704 - sparse_categorical_accuracy: 0.3581 - val_loss: 1.0626 - val_sparse_categorical_accuracy: 0.3642\n",
      "Epoch 11/100\n",
      "1500/1500 [==============================] - 8s 5ms/step - loss: 1.0929 - sparse_categorical_accuracy: 0.3410 - val_loss: 1.0976 - val_sparse_categorical_accuracy: 0.3267\n",
      "Epoch 12/100\n",
      "1500/1500 [==============================] - 7s 5ms/step - loss: 1.0981 - sparse_categorical_accuracy: 0.3330 - val_loss: 1.0977 - val_sparse_categorical_accuracy: 0.3267\n",
      "Epoch 13/100\n",
      "1500/1500 [==============================] - 8s 5ms/step - loss: 1.0981 - sparse_categorical_accuracy: 0.3372 - val_loss: 1.0973 - val_sparse_categorical_accuracy: 0.3337\n",
      "Epoch 14/100\n",
      "1500/1500 [==============================] - 7s 5ms/step - loss: 1.0981 - sparse_categorical_accuracy: 0.3337 - val_loss: 1.0974 - val_sparse_categorical_accuracy: 0.3337\n",
      "Epoch 15/100\n",
      "1500/1500 [==============================] - 8s 5ms/step - loss: 1.3176 - sparse_categorical_accuracy: 0.3355 - val_loss: 1.0986 - val_sparse_categorical_accuracy: 0.3267\n",
      "Epoch 16/100\n",
      "1500/1500 [==============================] - 7s 5ms/step - loss: 1.0986 - sparse_categorical_accuracy: 0.3342 - val_loss: 1.0985 - val_sparse_categorical_accuracy: 0.3327\n",
      "Epoch 17/100\n",
      "1500/1500 [==============================] - 8s 5ms/step - loss: 1.0986 - sparse_categorical_accuracy: 0.3339 - val_loss: 1.0986 - val_sparse_categorical_accuracy: 0.3267\n",
      "Epoch 18/100\n",
      "1500/1500 [==============================] - 7s 5ms/step - loss: 1.0986 - sparse_categorical_accuracy: 0.3312 - val_loss: 1.0986 - val_sparse_categorical_accuracy: 0.3267\n",
      "Epoch 19/100\n",
      "1500/1500 [==============================] - 7s 5ms/step - loss: 1.0986 - sparse_categorical_accuracy: 0.3307 - val_loss: 1.0986 - val_sparse_categorical_accuracy: 0.3327\n",
      "Epoch 20/100\n",
      "1500/1500 [==============================] - 7s 5ms/step - loss: 1.0985 - sparse_categorical_accuracy: 0.3362 - val_loss: 1.0984 - val_sparse_categorical_accuracy: 0.3410\n",
      "Epoch 21/100\n",
      "1500/1500 [==============================] - 7s 5ms/step - loss: 1.0985 - sparse_categorical_accuracy: 0.3337 - val_loss: 1.0986 - val_sparse_categorical_accuracy: 0.3327\n",
      "Epoch 22/100\n",
      "1500/1500 [==============================] - 8s 5ms/step - loss: 1.0985 - sparse_categorical_accuracy: 0.3340 - val_loss: 1.0986 - val_sparse_categorical_accuracy: 0.3267\n",
      "Epoch 23/100\n",
      "1500/1500 [==============================] - 7s 5ms/step - loss: 1.0985 - sparse_categorical_accuracy: 0.3333 - val_loss: 1.0986 - val_sparse_categorical_accuracy: 0.3267\n",
      "Epoch 24/100\n",
      "1500/1500 [==============================] - 8s 5ms/step - loss: 1.0985 - sparse_categorical_accuracy: 0.3338 - val_loss: 1.0989 - val_sparse_categorical_accuracy: 0.3267\n",
      "Epoch 25/100\n",
      "1500/1500 [==============================] - 8s 5ms/step - loss: 1.0985 - sparse_categorical_accuracy: 0.3341 - val_loss: 1.0986 - val_sparse_categorical_accuracy: 0.3327\n",
      "Epoch 26/100\n",
      "1500/1500 [==============================] - 8s 5ms/step - loss: 1.0985 - sparse_categorical_accuracy: 0.3355 - val_loss: 1.0988 - val_sparse_categorical_accuracy: 0.3267\n",
      "Epoch 27/100\n",
      "1500/1500 [==============================] - 7s 5ms/step - loss: 1.0986 - sparse_categorical_accuracy: 0.3325 - val_loss: 1.0984 - val_sparse_categorical_accuracy: 0.3267\n",
      "Epoch 28/100\n",
      "1500/1500 [==============================] - 8s 5ms/step - loss: 1.0985 - sparse_categorical_accuracy: 0.3354 - val_loss: 1.0987 - val_sparse_categorical_accuracy: 0.3267\n",
      "Epoch 29/100\n",
      "1500/1500 [==============================] - 7s 5ms/step - loss: 1.0986 - sparse_categorical_accuracy: 0.3309 - val_loss: 1.0984 - val_sparse_categorical_accuracy: 0.3327\n",
      "Epoch 30/100\n",
      "1500/1500 [==============================] - 8s 5ms/step - loss: 1.0985 - sparse_categorical_accuracy: 0.3335 - val_loss: 1.0983 - val_sparse_categorical_accuracy: 0.3410\n",
      "Epoch 31/100\n",
      "1500/1500 [==============================] - 8s 5ms/step - loss: 1.0986 - sparse_categorical_accuracy: 0.3338 - val_loss: 1.0985 - val_sparse_categorical_accuracy: 0.3267\n",
      "Epoch 32/100\n",
      "1500/1500 [==============================] - 8s 5ms/step - loss: 1.0986 - sparse_categorical_accuracy: 0.3326 - val_loss: 1.0983 - val_sparse_categorical_accuracy: 0.3410\n",
      "Epoch 33/100\n",
      "1500/1500 [==============================] - 7s 5ms/step - loss: 1.0985 - sparse_categorical_accuracy: 0.3352 - val_loss: 1.0986 - val_sparse_categorical_accuracy: 0.3327\n",
      "Epoch 34/100\n",
      "1500/1500 [==============================] - 8s 5ms/step - loss: 1.0986 - sparse_categorical_accuracy: 0.3329 - val_loss: 1.0987 - val_sparse_categorical_accuracy: 0.3267\n",
      "Epoch 35/100\n",
      "1500/1500 [==============================] - 8s 5ms/step - loss: 1.0985 - sparse_categorical_accuracy: 0.3335 - val_loss: 1.0989 - val_sparse_categorical_accuracy: 0.3267\n",
      "Epoch 36/100\n",
      "1500/1500 [==============================] - 8s 5ms/step - loss: 1.0985 - sparse_categorical_accuracy: 0.3319 - val_loss: 1.0988 - val_sparse_categorical_accuracy: 0.3267\n",
      "Epoch 37/100\n",
      "1500/1500 [==============================] - 7s 5ms/step - loss: 1.0985 - sparse_categorical_accuracy: 0.3355 - val_loss: 1.0986 - val_sparse_categorical_accuracy: 0.3327\n",
      "Epoch 38/100\n",
      "1500/1500 [==============================] - 8s 5ms/step - loss: 1.0986 - sparse_categorical_accuracy: 0.3313 - val_loss: 1.0987 - val_sparse_categorical_accuracy: 0.3267\n",
      "Epoch 39/100\n",
      "1500/1500 [==============================] - 8s 5ms/step - loss: 1.0986 - sparse_categorical_accuracy: 0.3327 - val_loss: 1.0986 - val_sparse_categorical_accuracy: 0.3267\n",
      "Epoch 40/100\n",
      "1500/1500 [==============================] - 6s 4ms/step - loss: 1.0986 - sparse_categorical_accuracy: 0.3321 - val_loss: 1.0986 - val_sparse_categorical_accuracy: 0.3267\n",
      "Epoch 41/100\n",
      "1500/1500 [==============================] - 6s 4ms/step - loss: 1.0986 - sparse_categorical_accuracy: 0.3335 - val_loss: 1.0987 - val_sparse_categorical_accuracy: 0.3327\n",
      "Epoch 42/100\n",
      "1500/1500 [==============================] - 5s 3ms/step - loss: 1.0986 - sparse_categorical_accuracy: 0.3310 - val_loss: 1.0984 - val_sparse_categorical_accuracy: 0.3410\n",
      "Epoch 43/100\n",
      "1500/1500 [==============================] - 4s 3ms/step - loss: 1.0985 - sparse_categorical_accuracy: 0.3345 - val_loss: 1.0987 - val_sparse_categorical_accuracy: 0.3267\n",
      "Epoch 44/100\n",
      "1500/1500 [==============================] - 4s 3ms/step - loss: 1.0985 - sparse_categorical_accuracy: 0.3348 - val_loss: 1.0987 - val_sparse_categorical_accuracy: 0.3327\n",
      "Epoch 45/100\n",
      "1500/1500 [==============================] - 4s 2ms/step - loss: 1.0985 - sparse_categorical_accuracy: 0.3352 - val_loss: 1.0986 - val_sparse_categorical_accuracy: 0.3327\n",
      "Epoch 46/100\n",
      "1500/1500 [==============================] - 4s 3ms/step - loss: 1.0985 - sparse_categorical_accuracy: 0.3361 - val_loss: 1.0983 - val_sparse_categorical_accuracy: 0.3410\n",
      "Epoch 47/100\n",
      "1500/1500 [==============================] - 5s 3ms/step - loss: 1.0986 - sparse_categorical_accuracy: 0.3330 - val_loss: 1.0985 - val_sparse_categorical_accuracy: 0.3327\n",
      "Epoch 48/100\n",
      "1500/1500 [==============================] - 4s 3ms/step - loss: 1.0986 - sparse_categorical_accuracy: 0.3336 - val_loss: 1.0985 - val_sparse_categorical_accuracy: 0.3267\n",
      "Epoch 49/100\n",
      "1500/1500 [==============================] - 4s 3ms/step - loss: 1.0986 - sparse_categorical_accuracy: 0.3340 - val_loss: 1.0983 - val_sparse_categorical_accuracy: 0.3410\n",
      "Epoch 50/100\n",
      "1500/1500 [==============================] - 5s 3ms/step - loss: 1.0986 - sparse_categorical_accuracy: 0.3330 - val_loss: 1.0987 - val_sparse_categorical_accuracy: 0.3327\n",
      "Epoch 51/100\n",
      "1500/1500 [==============================] - 1103s 736ms/step - loss: 1.0986 - sparse_categorical_accuracy: 0.3314 - val_loss: 1.0985 - val_sparse_categorical_accuracy: 0.3327\n",
      "Epoch 52/100\n",
      "1500/1500 [==============================] - 7s 5ms/step - loss: 1.0986 - sparse_categorical_accuracy: 0.3334 - val_loss: 1.0986 - val_sparse_categorical_accuracy: 0.3267\n",
      "Epoch 53/100\n",
      "1500/1500 [==============================] - 5s 3ms/step - loss: 1.0986 - sparse_categorical_accuracy: 0.3327 - val_loss: 1.0985 - val_sparse_categorical_accuracy: 0.3327\n",
      "Epoch 54/100\n",
      "1500/1500 [==============================] - 5s 3ms/step - loss: 1.0986 - sparse_categorical_accuracy: 0.3335 - val_loss: 1.0984 - val_sparse_categorical_accuracy: 0.3410\n",
      "Epoch 55/100\n",
      "1500/1500 [==============================] - 5s 3ms/step - loss: 1.0986 - sparse_categorical_accuracy: 0.3339 - val_loss: 1.0987 - val_sparse_categorical_accuracy: 0.3267\n",
      "Epoch 56/100\n",
      "1500/1500 [==============================] - 4s 3ms/step - loss: 1.0986 - sparse_categorical_accuracy: 0.3319 - val_loss: 1.0989 - val_sparse_categorical_accuracy: 0.3267\n",
      "Epoch 57/100\n",
      "1500/1500 [==============================] - 5s 3ms/step - loss: 1.0985 - sparse_categorical_accuracy: 0.3359 - val_loss: 1.0989 - val_sparse_categorical_accuracy: 0.3267\n",
      "Epoch 58/100\n",
      "1500/1500 [==============================] - 8s 5ms/step - loss: 1.0986 - sparse_categorical_accuracy: 0.3315 - val_loss: 1.0987 - val_sparse_categorical_accuracy: 0.3267\n",
      "Epoch 59/100\n",
      "1499/1500 [============================>.] - ETA: 0s - loss: 1.0986 - sparse_categorical_accuracy: 0.3332"
     ]
    },
    {
     "ename": "KeyboardInterrupt",
     "evalue": "",
     "output_type": "error",
     "traceback": [
      "\u001b[1;31m---------------------------------------------------------------------------\u001b[0m",
      "\u001b[1;31mKeyboardInterrupt\u001b[0m                         Traceback (most recent call last)",
      "\u001b[1;32mc:\\Users\\user\\JPY\\ML Projects\\Group 4 Project_ Accident Severity Prediction.ipynb Cell 44\u001b[0m in \u001b[0;36m<cell line: 7>\u001b[1;34m()\u001b[0m\n\u001b[0;32m      <a href='vscode-notebook-cell:/c%3A/Users/user/JPY/ML%20Projects/Group%204%20Project_%20Accident%20Severity%20Prediction.ipynb#X61sZmlsZQ%3D%3D?line=0'>1</a>\u001b[0m model1\u001b[39m.\u001b[39mcompile(\n\u001b[0;32m      <a href='vscode-notebook-cell:/c%3A/Users/user/JPY/ML%20Projects/Group%204%20Project_%20Accident%20Severity%20Prediction.ipynb#X61sZmlsZQ%3D%3D?line=1'>2</a>\u001b[0m     optimizer\u001b[39m=\u001b[39m\u001b[39m\"\u001b[39m\u001b[39madam\u001b[39m\u001b[39m\"\u001b[39m,\n\u001b[0;32m      <a href='vscode-notebook-cell:/c%3A/Users/user/JPY/ML%20Projects/Group%204%20Project_%20Accident%20Severity%20Prediction.ipynb#X61sZmlsZQ%3D%3D?line=2'>3</a>\u001b[0m     loss\u001b[39m=\u001b[39mtf\u001b[39m.\u001b[39mkeras\u001b[39m.\u001b[39mlosses\u001b[39m.\u001b[39mSparseCategoricalCrossentropy(),\n\u001b[0;32m      <a href='vscode-notebook-cell:/c%3A/Users/user/JPY/ML%20Projects/Group%204%20Project_%20Accident%20Severity%20Prediction.ipynb#X61sZmlsZQ%3D%3D?line=3'>4</a>\u001b[0m     metrics\u001b[39m=\u001b[39m[\u001b[39m'\u001b[39m\u001b[39msparse_categorical_accuracy\u001b[39m\u001b[39m'\u001b[39m]\n\u001b[0;32m      <a href='vscode-notebook-cell:/c%3A/Users/user/JPY/ML%20Projects/Group%204%20Project_%20Accident%20Severity%20Prediction.ipynb#X61sZmlsZQ%3D%3D?line=4'>5</a>\u001b[0m )\n\u001b[1;32m----> <a href='vscode-notebook-cell:/c%3A/Users/user/JPY/ML%20Projects/Group%204%20Project_%20Accident%20Severity%20Prediction.ipynb#X61sZmlsZQ%3D%3D?line=6'>7</a>\u001b[0m history \u001b[39m=\u001b[39m model1\u001b[39m.\u001b[39;49mfit(\n\u001b[0;32m      <a href='vscode-notebook-cell:/c%3A/Users/user/JPY/ML%20Projects/Group%204%20Project_%20Accident%20Severity%20Prediction.ipynb#X61sZmlsZQ%3D%3D?line=7'>8</a>\u001b[0m           x\u001b[39m=\u001b[39;49mX_train_tr,\n\u001b[0;32m      <a href='vscode-notebook-cell:/c%3A/Users/user/JPY/ML%20Projects/Group%204%20Project_%20Accident%20Severity%20Prediction.ipynb#X61sZmlsZQ%3D%3D?line=8'>9</a>\u001b[0m           y\u001b[39m=\u001b[39;49my_train_tr,\n\u001b[0;32m     <a href='vscode-notebook-cell:/c%3A/Users/user/JPY/ML%20Projects/Group%204%20Project_%20Accident%20Severity%20Prediction.ipynb#X61sZmlsZQ%3D%3D?line=9'>10</a>\u001b[0m           epochs\u001b[39m=\u001b[39;49m\u001b[39m100\u001b[39;49m,\n\u001b[0;32m     <a href='vscode-notebook-cell:/c%3A/Users/user/JPY/ML%20Projects/Group%204%20Project_%20Accident%20Severity%20Prediction.ipynb#X61sZmlsZQ%3D%3D?line=10'>11</a>\u001b[0m           validation_data\u001b[39m=\u001b[39;49m (X_valid_tr,y_valid_tr)\n\u001b[0;32m     <a href='vscode-notebook-cell:/c%3A/Users/user/JPY/ML%20Projects/Group%204%20Project_%20Accident%20Severity%20Prediction.ipynb#X61sZmlsZQ%3D%3D?line=11'>12</a>\u001b[0m           \n\u001b[0;32m     <a href='vscode-notebook-cell:/c%3A/Users/user/JPY/ML%20Projects/Group%204%20Project_%20Accident%20Severity%20Prediction.ipynb#X61sZmlsZQ%3D%3D?line=12'>13</a>\u001b[0m )\n",
      "File \u001b[1;32mc:\\Users\\user\\AppData\\Local\\Programs\\Python\\Python310\\lib\\site-packages\\keras\\utils\\traceback_utils.py:64\u001b[0m, in \u001b[0;36mfilter_traceback.<locals>.error_handler\u001b[1;34m(*args, **kwargs)\u001b[0m\n\u001b[0;32m     62\u001b[0m filtered_tb \u001b[39m=\u001b[39m \u001b[39mNone\u001b[39;00m\n\u001b[0;32m     63\u001b[0m \u001b[39mtry\u001b[39;00m:\n\u001b[1;32m---> 64\u001b[0m   \u001b[39mreturn\u001b[39;00m fn(\u001b[39m*\u001b[39margs, \u001b[39m*\u001b[39m\u001b[39m*\u001b[39mkwargs)\n\u001b[0;32m     65\u001b[0m \u001b[39mexcept\u001b[39;00m \u001b[39mException\u001b[39;00m \u001b[39mas\u001b[39;00m e:  \u001b[39m# pylint: disable=broad-except\u001b[39;00m\n\u001b[0;32m     66\u001b[0m   filtered_tb \u001b[39m=\u001b[39m _process_traceback_frames(e\u001b[39m.\u001b[39m__traceback__)\n",
      "File \u001b[1;32mc:\\Users\\user\\AppData\\Local\\Programs\\Python\\Python310\\lib\\site-packages\\keras\\engine\\training.py:1445\u001b[0m, in \u001b[0;36mModel.fit\u001b[1;34m(self, x, y, batch_size, epochs, verbose, callbacks, validation_split, validation_data, shuffle, class_weight, sample_weight, initial_epoch, steps_per_epoch, validation_steps, validation_batch_size, validation_freq, max_queue_size, workers, use_multiprocessing)\u001b[0m\n\u001b[0;32m   1431\u001b[0m \u001b[39mif\u001b[39;00m \u001b[39mgetattr\u001b[39m(\u001b[39mself\u001b[39m, \u001b[39m'\u001b[39m\u001b[39m_eval_data_handler\u001b[39m\u001b[39m'\u001b[39m, \u001b[39mNone\u001b[39;00m) \u001b[39mis\u001b[39;00m \u001b[39mNone\u001b[39;00m:\n\u001b[0;32m   1432\u001b[0m   \u001b[39mself\u001b[39m\u001b[39m.\u001b[39m_eval_data_handler \u001b[39m=\u001b[39m data_adapter\u001b[39m.\u001b[39mget_data_handler(\n\u001b[0;32m   1433\u001b[0m       x\u001b[39m=\u001b[39mval_x,\n\u001b[0;32m   1434\u001b[0m       y\u001b[39m=\u001b[39mval_y,\n\u001b[1;32m   (...)\u001b[0m\n\u001b[0;32m   1443\u001b[0m       model\u001b[39m=\u001b[39m\u001b[39mself\u001b[39m,\n\u001b[0;32m   1444\u001b[0m       steps_per_execution\u001b[39m=\u001b[39m\u001b[39mself\u001b[39m\u001b[39m.\u001b[39m_steps_per_execution)\n\u001b[1;32m-> 1445\u001b[0m val_logs \u001b[39m=\u001b[39m \u001b[39mself\u001b[39;49m\u001b[39m.\u001b[39;49mevaluate(\n\u001b[0;32m   1446\u001b[0m     x\u001b[39m=\u001b[39;49mval_x,\n\u001b[0;32m   1447\u001b[0m     y\u001b[39m=\u001b[39;49mval_y,\n\u001b[0;32m   1448\u001b[0m     sample_weight\u001b[39m=\u001b[39;49mval_sample_weight,\n\u001b[0;32m   1449\u001b[0m     batch_size\u001b[39m=\u001b[39;49mvalidation_batch_size \u001b[39mor\u001b[39;49;00m batch_size,\n\u001b[0;32m   1450\u001b[0m     steps\u001b[39m=\u001b[39;49mvalidation_steps,\n\u001b[0;32m   1451\u001b[0m     callbacks\u001b[39m=\u001b[39;49mcallbacks,\n\u001b[0;32m   1452\u001b[0m     max_queue_size\u001b[39m=\u001b[39;49mmax_queue_size,\n\u001b[0;32m   1453\u001b[0m     workers\u001b[39m=\u001b[39;49mworkers,\n\u001b[0;32m   1454\u001b[0m     use_multiprocessing\u001b[39m=\u001b[39;49muse_multiprocessing,\n\u001b[0;32m   1455\u001b[0m     return_dict\u001b[39m=\u001b[39;49m\u001b[39mTrue\u001b[39;49;00m,\n\u001b[0;32m   1456\u001b[0m     _use_cached_eval_dataset\u001b[39m=\u001b[39;49m\u001b[39mTrue\u001b[39;49;00m)\n\u001b[0;32m   1457\u001b[0m val_logs \u001b[39m=\u001b[39m {\u001b[39m'\u001b[39m\u001b[39mval_\u001b[39m\u001b[39m'\u001b[39m \u001b[39m+\u001b[39m name: val \u001b[39mfor\u001b[39;00m name, val \u001b[39min\u001b[39;00m val_logs\u001b[39m.\u001b[39mitems()}\n\u001b[0;32m   1458\u001b[0m epoch_logs\u001b[39m.\u001b[39mupdate(val_logs)\n",
      "File \u001b[1;32mc:\\Users\\user\\AppData\\Local\\Programs\\Python\\Python310\\lib\\site-packages\\keras\\utils\\traceback_utils.py:64\u001b[0m, in \u001b[0;36mfilter_traceback.<locals>.error_handler\u001b[1;34m(*args, **kwargs)\u001b[0m\n\u001b[0;32m     62\u001b[0m filtered_tb \u001b[39m=\u001b[39m \u001b[39mNone\u001b[39;00m\n\u001b[0;32m     63\u001b[0m \u001b[39mtry\u001b[39;00m:\n\u001b[1;32m---> 64\u001b[0m   \u001b[39mreturn\u001b[39;00m fn(\u001b[39m*\u001b[39margs, \u001b[39m*\u001b[39m\u001b[39m*\u001b[39mkwargs)\n\u001b[0;32m     65\u001b[0m \u001b[39mexcept\u001b[39;00m \u001b[39mException\u001b[39;00m \u001b[39mas\u001b[39;00m e:  \u001b[39m# pylint: disable=broad-except\u001b[39;00m\n\u001b[0;32m     66\u001b[0m   filtered_tb \u001b[39m=\u001b[39m _process_traceback_frames(e\u001b[39m.\u001b[39m__traceback__)\n",
      "File \u001b[1;32mc:\\Users\\user\\AppData\\Local\\Programs\\Python\\Python310\\lib\\site-packages\\keras\\engine\\training.py:1756\u001b[0m, in \u001b[0;36mModel.evaluate\u001b[1;34m(self, x, y, batch_size, verbose, sample_weight, steps, callbacks, max_queue_size, workers, use_multiprocessing, return_dict, **kwargs)\u001b[0m\n\u001b[0;32m   1754\u001b[0m \u001b[39mwith\u001b[39;00m tf\u001b[39m.\u001b[39mprofiler\u001b[39m.\u001b[39mexperimental\u001b[39m.\u001b[39mTrace(\u001b[39m'\u001b[39m\u001b[39mtest\u001b[39m\u001b[39m'\u001b[39m, step_num\u001b[39m=\u001b[39mstep, _r\u001b[39m=\u001b[39m\u001b[39m1\u001b[39m):\n\u001b[0;32m   1755\u001b[0m   callbacks\u001b[39m.\u001b[39mon_test_batch_begin(step)\n\u001b[1;32m-> 1756\u001b[0m   tmp_logs \u001b[39m=\u001b[39m \u001b[39mself\u001b[39;49m\u001b[39m.\u001b[39;49mtest_function(iterator)\n\u001b[0;32m   1757\u001b[0m   \u001b[39mif\u001b[39;00m data_handler\u001b[39m.\u001b[39mshould_sync:\n\u001b[0;32m   1758\u001b[0m     context\u001b[39m.\u001b[39masync_wait()\n",
      "File \u001b[1;32mc:\\Users\\user\\AppData\\Local\\Programs\\Python\\Python310\\lib\\site-packages\\tensorflow\\python\\util\\traceback_utils.py:150\u001b[0m, in \u001b[0;36mfilter_traceback.<locals>.error_handler\u001b[1;34m(*args, **kwargs)\u001b[0m\n\u001b[0;32m    148\u001b[0m filtered_tb \u001b[39m=\u001b[39m \u001b[39mNone\u001b[39;00m\n\u001b[0;32m    149\u001b[0m \u001b[39mtry\u001b[39;00m:\n\u001b[1;32m--> 150\u001b[0m   \u001b[39mreturn\u001b[39;00m fn(\u001b[39m*\u001b[39margs, \u001b[39m*\u001b[39m\u001b[39m*\u001b[39mkwargs)\n\u001b[0;32m    151\u001b[0m \u001b[39mexcept\u001b[39;00m \u001b[39mException\u001b[39;00m \u001b[39mas\u001b[39;00m e:\n\u001b[0;32m    152\u001b[0m   filtered_tb \u001b[39m=\u001b[39m _process_traceback_frames(e\u001b[39m.\u001b[39m__traceback__)\n",
      "File \u001b[1;32mc:\\Users\\user\\AppData\\Local\\Programs\\Python\\Python310\\lib\\site-packages\\tensorflow\\python\\eager\\def_function.py:915\u001b[0m, in \u001b[0;36mFunction.__call__\u001b[1;34m(self, *args, **kwds)\u001b[0m\n\u001b[0;32m    912\u001b[0m compiler \u001b[39m=\u001b[39m \u001b[39m\"\u001b[39m\u001b[39mxla\u001b[39m\u001b[39m\"\u001b[39m \u001b[39mif\u001b[39;00m \u001b[39mself\u001b[39m\u001b[39m.\u001b[39m_jit_compile \u001b[39melse\u001b[39;00m \u001b[39m\"\u001b[39m\u001b[39mnonXla\u001b[39m\u001b[39m\"\u001b[39m\n\u001b[0;32m    914\u001b[0m \u001b[39mwith\u001b[39;00m OptionalXlaContext(\u001b[39mself\u001b[39m\u001b[39m.\u001b[39m_jit_compile):\n\u001b[1;32m--> 915\u001b[0m   result \u001b[39m=\u001b[39m \u001b[39mself\u001b[39m\u001b[39m.\u001b[39m_call(\u001b[39m*\u001b[39margs, \u001b[39m*\u001b[39m\u001b[39m*\u001b[39mkwds)\n\u001b[0;32m    917\u001b[0m new_tracing_count \u001b[39m=\u001b[39m \u001b[39mself\u001b[39m\u001b[39m.\u001b[39mexperimental_get_tracing_count()\n\u001b[0;32m    918\u001b[0m without_tracing \u001b[39m=\u001b[39m (tracing_count \u001b[39m==\u001b[39m new_tracing_count)\n",
      "File \u001b[1;32mc:\\Users\\user\\AppData\\Local\\Programs\\Python\\Python310\\lib\\site-packages\\tensorflow\\python\\eager\\def_function.py:954\u001b[0m, in \u001b[0;36mFunction._call\u001b[1;34m(self, *args, **kwds)\u001b[0m\n\u001b[0;32m    951\u001b[0m \u001b[39mself\u001b[39m\u001b[39m.\u001b[39m_lock\u001b[39m.\u001b[39mrelease()\n\u001b[0;32m    952\u001b[0m \u001b[39m# In this case we have not created variables on the first call. So we can\u001b[39;00m\n\u001b[0;32m    953\u001b[0m \u001b[39m# run the first trace but we should fail if variables are created.\u001b[39;00m\n\u001b[1;32m--> 954\u001b[0m results \u001b[39m=\u001b[39m \u001b[39mself\u001b[39m\u001b[39m.\u001b[39m_stateful_fn(\u001b[39m*\u001b[39margs, \u001b[39m*\u001b[39m\u001b[39m*\u001b[39mkwds)\n\u001b[0;32m    955\u001b[0m \u001b[39mif\u001b[39;00m \u001b[39mself\u001b[39m\u001b[39m.\u001b[39m_created_variables \u001b[39mand\u001b[39;00m \u001b[39mnot\u001b[39;00m ALLOW_DYNAMIC_VARIABLE_CREATION:\n\u001b[0;32m    956\u001b[0m   \u001b[39mraise\u001b[39;00m \u001b[39mValueError\u001b[39;00m(\u001b[39m\"\u001b[39m\u001b[39mCreating variables on a non-first call to a function\u001b[39m\u001b[39m\"\u001b[39m\n\u001b[0;32m    957\u001b[0m                    \u001b[39m\"\u001b[39m\u001b[39m decorated with tf.function.\u001b[39m\u001b[39m\"\u001b[39m)\n",
      "File \u001b[1;32mc:\\Users\\user\\AppData\\Local\\Programs\\Python\\Python310\\lib\\site-packages\\tensorflow\\python\\eager\\function.py:2453\u001b[0m, in \u001b[0;36mFunction.__call__\u001b[1;34m(self, *args, **kwargs)\u001b[0m\n\u001b[0;32m   2450\u001b[0m \u001b[39mwith\u001b[39;00m \u001b[39mself\u001b[39m\u001b[39m.\u001b[39m_lock:\n\u001b[0;32m   2451\u001b[0m   (graph_function,\n\u001b[0;32m   2452\u001b[0m    filtered_flat_args) \u001b[39m=\u001b[39m \u001b[39mself\u001b[39m\u001b[39m.\u001b[39m_maybe_define_function(args, kwargs)\n\u001b[1;32m-> 2453\u001b[0m \u001b[39mreturn\u001b[39;00m graph_function\u001b[39m.\u001b[39;49m_call_flat(\n\u001b[0;32m   2454\u001b[0m     filtered_flat_args, captured_inputs\u001b[39m=\u001b[39;49mgraph_function\u001b[39m.\u001b[39;49mcaptured_inputs)\n",
      "File \u001b[1;32mc:\\Users\\user\\AppData\\Local\\Programs\\Python\\Python310\\lib\\site-packages\\tensorflow\\python\\eager\\function.py:1860\u001b[0m, in \u001b[0;36mConcreteFunction._call_flat\u001b[1;34m(self, args, captured_inputs, cancellation_manager)\u001b[0m\n\u001b[0;32m   1856\u001b[0m possible_gradient_type \u001b[39m=\u001b[39m gradients_util\u001b[39m.\u001b[39mPossibleTapeGradientTypes(args)\n\u001b[0;32m   1857\u001b[0m \u001b[39mif\u001b[39;00m (possible_gradient_type \u001b[39m==\u001b[39m gradients_util\u001b[39m.\u001b[39mPOSSIBLE_GRADIENT_TYPES_NONE\n\u001b[0;32m   1858\u001b[0m     \u001b[39mand\u001b[39;00m executing_eagerly):\n\u001b[0;32m   1859\u001b[0m   \u001b[39m# No tape is watching; skip to running the function.\u001b[39;00m\n\u001b[1;32m-> 1860\u001b[0m   \u001b[39mreturn\u001b[39;00m \u001b[39mself\u001b[39m\u001b[39m.\u001b[39m_build_call_outputs(\u001b[39mself\u001b[39;49m\u001b[39m.\u001b[39;49m_inference_function\u001b[39m.\u001b[39;49mcall(\n\u001b[0;32m   1861\u001b[0m       ctx, args, cancellation_manager\u001b[39m=\u001b[39;49mcancellation_manager))\n\u001b[0;32m   1862\u001b[0m forward_backward \u001b[39m=\u001b[39m \u001b[39mself\u001b[39m\u001b[39m.\u001b[39m_select_forward_and_backward_functions(\n\u001b[0;32m   1863\u001b[0m     args,\n\u001b[0;32m   1864\u001b[0m     possible_gradient_type,\n\u001b[0;32m   1865\u001b[0m     executing_eagerly)\n\u001b[0;32m   1866\u001b[0m forward_function, args_with_tangents \u001b[39m=\u001b[39m forward_backward\u001b[39m.\u001b[39mforward()\n",
      "File \u001b[1;32mc:\\Users\\user\\AppData\\Local\\Programs\\Python\\Python310\\lib\\site-packages\\tensorflow\\python\\eager\\function.py:497\u001b[0m, in \u001b[0;36m_EagerDefinedFunction.call\u001b[1;34m(self, ctx, args, cancellation_manager)\u001b[0m\n\u001b[0;32m    495\u001b[0m \u001b[39mwith\u001b[39;00m _InterpolateFunctionError(\u001b[39mself\u001b[39m):\n\u001b[0;32m    496\u001b[0m   \u001b[39mif\u001b[39;00m cancellation_manager \u001b[39mis\u001b[39;00m \u001b[39mNone\u001b[39;00m:\n\u001b[1;32m--> 497\u001b[0m     outputs \u001b[39m=\u001b[39m execute\u001b[39m.\u001b[39;49mexecute(\n\u001b[0;32m    498\u001b[0m         \u001b[39mstr\u001b[39;49m(\u001b[39mself\u001b[39;49m\u001b[39m.\u001b[39;49msignature\u001b[39m.\u001b[39;49mname),\n\u001b[0;32m    499\u001b[0m         num_outputs\u001b[39m=\u001b[39;49m\u001b[39mself\u001b[39;49m\u001b[39m.\u001b[39;49m_num_outputs,\n\u001b[0;32m    500\u001b[0m         inputs\u001b[39m=\u001b[39;49margs,\n\u001b[0;32m    501\u001b[0m         attrs\u001b[39m=\u001b[39;49mattrs,\n\u001b[0;32m    502\u001b[0m         ctx\u001b[39m=\u001b[39;49mctx)\n\u001b[0;32m    503\u001b[0m   \u001b[39melse\u001b[39;00m:\n\u001b[0;32m    504\u001b[0m     outputs \u001b[39m=\u001b[39m execute\u001b[39m.\u001b[39mexecute_with_cancellation(\n\u001b[0;32m    505\u001b[0m         \u001b[39mstr\u001b[39m(\u001b[39mself\u001b[39m\u001b[39m.\u001b[39msignature\u001b[39m.\u001b[39mname),\n\u001b[0;32m    506\u001b[0m         num_outputs\u001b[39m=\u001b[39m\u001b[39mself\u001b[39m\u001b[39m.\u001b[39m_num_outputs,\n\u001b[1;32m   (...)\u001b[0m\n\u001b[0;32m    509\u001b[0m         ctx\u001b[39m=\u001b[39mctx,\n\u001b[0;32m    510\u001b[0m         cancellation_manager\u001b[39m=\u001b[39mcancellation_manager)\n",
      "File \u001b[1;32mc:\\Users\\user\\AppData\\Local\\Programs\\Python\\Python310\\lib\\site-packages\\tensorflow\\python\\eager\\execute.py:54\u001b[0m, in \u001b[0;36mquick_execute\u001b[1;34m(op_name, num_outputs, inputs, attrs, ctx, name)\u001b[0m\n\u001b[0;32m     52\u001b[0m \u001b[39mtry\u001b[39;00m:\n\u001b[0;32m     53\u001b[0m   ctx\u001b[39m.\u001b[39mensure_initialized()\n\u001b[1;32m---> 54\u001b[0m   tensors \u001b[39m=\u001b[39m pywrap_tfe\u001b[39m.\u001b[39;49mTFE_Py_Execute(ctx\u001b[39m.\u001b[39;49m_handle, device_name, op_name,\n\u001b[0;32m     55\u001b[0m                                       inputs, attrs, num_outputs)\n\u001b[0;32m     56\u001b[0m \u001b[39mexcept\u001b[39;00m core\u001b[39m.\u001b[39m_NotOkStatusException \u001b[39mas\u001b[39;00m e:\n\u001b[0;32m     57\u001b[0m   \u001b[39mif\u001b[39;00m name \u001b[39mis\u001b[39;00m \u001b[39mnot\u001b[39;00m \u001b[39mNone\u001b[39;00m:\n",
      "\u001b[1;31mKeyboardInterrupt\u001b[0m: "
     ]
    }
   ],
   "source": [
    "model1.compile(\n",
    "    optimizer=\"adam\",\n",
    "    loss=tf.keras.losses.SparseCategoricalCrossentropy(),\n",
    "    metrics=['sparse_categorical_accuracy']\n",
    ")\n",
    "\n",
    "history = model1.fit(\n",
    "          x=X_train_tr,\n",
    "          y=y_train_tr,\n",
    "          epochs=100,\n",
    "          validation_data= (X_valid_tr,y_valid_tr)\n",
    "          \n",
    ")"
   ]
  },
  {
   "cell_type": "code",
   "execution_count": 101,
   "id": "d5da1a2e-64be-46d6-ae89-3938292c3f03",
   "metadata": {},
   "outputs": [
    {
     "name": "stdout",
     "output_type": "stream",
     "text": [
      "188/188 [==============================] - 1s 5ms/step\n"
     ]
    },
    {
     "data": {
      "text/plain": [
       "0.00033327778703549406"
      ]
     },
     "execution_count": 101,
     "metadata": {},
     "output_type": "execute_result"
    }
   ],
   "source": [
    "cal_f1_score(model1,X_test_tr,y_test_tr)"
   ]
  },
  {
   "cell_type": "code",
   "execution_count": 102,
   "id": "44c1a7ef-8018-404f-aa9d-9e9ef0309b37",
   "metadata": {},
   "outputs": [
    {
     "name": "stdout",
     "output_type": "stream",
     "text": [
      "188/188 [==============================] - 1s 3ms/step\n",
      "confusion matrix\n"
     ]
    },
    {
     "data": {
      "image/png": "[encoded data removed]",
      "text/plain": [
       "<Figure size 432x288 with 2 Axes>"
      ]
     },
     "metadata": {
      "needs_background": "light"
     },
     "output_type": "display_data"
    }
   ],
   "source": [
    "plot_cm(model1,X_test_tr,y_test_enc)\n"
   ]
  },
  {
   "cell_type": "code",
   "execution_count": 33,
   "id": "af69499f",
   "metadata": {},
   "outputs": [
    {
     "data": {
      "text/plain": [
       "array([1, 2, 2, ..., 2, 1, 2], dtype=int64)"
      ]
     },
     "execution_count": 33,
     "metadata": {},
     "output_type": "execute_result"
    }
   ],
   "source": [
    "np.argmax(y_train_enc,axis=1)"
   ]
  },
  {
   "cell_type": "code",
   "execution_count": 103,
   "id": "73fafbfa",
   "metadata": {},
   "outputs": [
    {
     "name": "stdout",
     "output_type": "stream",
     "text": [
      "188/188 [==============================] - 1s 3ms/step\n"
     ]
    },
    {
     "data": {
      "text/plain": [
       "array([[0.3301101 , 0.3381316 , 0.33175835],\n",
       "       [0.3301101 , 0.3381316 , 0.33175835],\n",
       "       [0.3301101 , 0.3381316 , 0.33175835],\n",
       "       [0.3301101 , 0.3381316 , 0.33175835],\n",
       "       [0.3301101 , 0.3381316 , 0.33175835],\n",
       "       [0.3301101 , 0.3381316 , 0.33175835],\n",
       "       [0.3301101 , 0.3381316 , 0.33175835],\n",
       "       [0.3301101 , 0.3381316 , 0.33175835],\n",
       "       [0.3301101 , 0.3381316 , 0.33175835],\n",
       "       [0.3301101 , 0.3381316 , 0.33175835],\n",
       "       [0.3301101 , 0.3381316 , 0.33175835],\n",
       "       [0.3301101 , 0.3381316 , 0.33175835],\n",
       "       [0.3301101 , 0.3381316 , 0.33175835],\n",
       "       [0.3301101 , 0.3381316 , 0.33175835],\n",
       "       [0.3301101 , 0.3381316 , 0.33175835],\n",
       "       [0.3301101 , 0.3381316 , 0.33175835],\n",
       "       [0.3301101 , 0.3381316 , 0.33175835],\n",
       "       [0.3301101 , 0.3381316 , 0.33175835],\n",
       "       [0.3301101 , 0.3381316 , 0.33175835],\n",
       "       [0.3301101 , 0.3381316 , 0.33175835]], dtype=float32)"
      ]
     },
     "execution_count": 103,
     "metadata": {},
     "output_type": "execute_result"
    }
   ],
   "source": [
    "model1.predict(X_test_tr)[100:120]"
   ]
  },
  {
   "cell_type": "code",
   "execution_count": null,
   "id": "3382a3d7",
   "metadata": {},
   "outputs": [],
   "source": []
  }
 ],
 "metadata": {
  "kernelspec": {
   "display_name": "Python 3.10.4 64-bit",
   "language": "python",
   "name": "python3"
  },
  "language_info": {
   "codemirror_mode": {
    "name": "ipython",
    "version": 3
   },
   "file_extension": ".py",
   "mimetype": "text/x-python",
   "name": "python",
   "nbconvert_exporter": "python",
   "pygments_lexer": "ipython3",
   "version": "3.10.4"
  },
  "vscode": {
   "interpreter": {
    "hash": "fb4569285eef3a3450cb62085a5b1e0da4bce0af555edc33dcf29baf3acc1368"
   }
  }
 },
 "nbformat": 4,
 "nbformat_minor": 5
}
